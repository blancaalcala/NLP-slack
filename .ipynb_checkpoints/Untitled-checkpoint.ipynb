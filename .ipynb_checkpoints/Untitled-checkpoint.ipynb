{
 "cells": [
  {
   "cell_type": "code",
   "execution_count": 1,
   "metadata": {},
   "outputs": [],
   "source": [
    "def index():\n",
    "    return print('''\n",
    "        Welcome to the slack NLP API!:https://github.com/blancaalcala/NLP-slack,\n",
    "        \\nPossible actions:\n",
    "        \\nget user recommendation: /user/user_id/recommend,\n",
    "        \\nget messages from specific chat: /chat/chat_id/list,\n",
    "        \\nget chat sentiment: /chat/chat_id/sentiment,\n",
    "        \\nget user sentiment: /user/user_id/sentiment,  \n",
    "        \\nintroduce new information: /refresh_info''')"
   ]
  },
  {
   "cell_type": "code",
   "execution_count": 2,
   "metadata": {},
   "outputs": [
    {
     "name": "stdout",
     "output_type": "stream",
     "text": [
      "\n",
      "        Welcome to the slack NLP API!:https://github.com/blancaalcala/NLP-slack,\n",
      "        \n",
      "Possible actions,\n",
      "        \n",
      "get user recommendation':'/user/user_id/recommend,\n",
      "        \n",
      "get messages from specific chat':'/chat/chat_id/list,\n",
      "        \n",
      "get chat sentiment':'/chat/chat_id/sentiment,\n",
      "        \n",
      "get user sentiment':'/user/user_id/sentiment,  \n",
      "        \n",
      "introduce new information':'/refresh_info\n"
     ]
    }
   ],
   "source": [
    "index()"
   ]
  },
  {
   "cell_type": "code",
   "execution_count": null,
   "metadata": {},
   "outputs": [],
   "source": []
  }
 ],
 "metadata": {
  "kernelspec": {
   "display_name": "Python 3",
   "language": "python",
   "name": "python3"
  },
  "language_info": {
   "codemirror_mode": {
    "name": "ipython",
    "version": 3
   },
   "file_extension": ".py",
   "mimetype": "text/x-python",
   "name": "python",
   "nbconvert_exporter": "python",
   "pygments_lexer": "ipython3",
   "version": "3.7.5"
  }
 },
 "nbformat": 4,
 "nbformat_minor": 2
}
